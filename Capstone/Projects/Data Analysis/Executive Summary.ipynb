{
 "cells": [
  {
   "cell_type": "markdown",
   "metadata": {},
   "source": [
    "# Executive Summary\n",
    "<br>\n",
    "In the context of my training with <a href=\"https://www.springboard.com/workshops/data-science-intensive/\" target=\"_blank\">SpringBoard</a> and the program datascience intensive an important project must be delivred, called the Capstone project.<br>\n",
    "The capstone project is a concrete application of the concept learned durring this training and we have decided to help a company providing greenhouse called <a href=\"https://myfood.eu/fr/\" target=\"_blank\">MyFood</a>.<br>\n",
    "An hydroponic system uses a pump to distribute the water and a filter is used to protect the pump. The objective of the project was to find a way to discover if the filter protecting the pump is clogging.<br>\n",
    "In the water circuit of the greenhouse , no measure of the flow is available and we will try with the measure of the current consumed by the pump and parameter controled if it is possible to have an image of the flow and the input load of the pump.<br>\n",
    "For this goal, an experiment is created to simulate the working condition of the pump and capture in a dataset the informations that will be used for the analysis.\n",
    "The project covers\n",
    "- <a href=\"../Data Acquisition/LabjackTestPython.ipynb\" target=\"_blank\">Data aquisition</a>\n",
    "- <a href=\"./Apply data storytelling.ipynb\" target=\"_blank\">Data story telling</a>\n",
    "- <a href=\"./Capstone Milestone report.ipynb\" target=\"_blank\">Feature engineering</a>\n",
    "- <a href=\"./Capstone Final.ipynb\" target=\"_blank\">Prediction with machine learning</a>\n",
    "\n",
    "The reader can discover the process step by step throw the links below.<br>\n",
    "All the development is done with :\n",
    "- Anaconda (Python distribution for data science)\n",
    "- Jupyter notebook as the framework to support this project\n",
    "- Pandas Python library to manipulate the dataset\n",
    "- Matplotlib for the visualisation\n",
    "- Scikit Learn for the data preparation and the machine learning\n",
    "- Github to share the project with the community\n"
   ]
  }
 ],
 "metadata": {
  "kernelspec": {
   "display_name": "Python 3",
   "language": "python",
   "name": "python3"
  },
  "language_info": {
   "codemirror_mode": {
    "name": "ipython",
    "version": 3
   },
   "file_extension": ".py",
   "mimetype": "text/x-python",
   "name": "python",
   "nbconvert_exporter": "python",
   "pygments_lexer": "ipython3",
   "version": "3.6.0"
  }
 },
 "nbformat": 4,
 "nbformat_minor": 2
}
